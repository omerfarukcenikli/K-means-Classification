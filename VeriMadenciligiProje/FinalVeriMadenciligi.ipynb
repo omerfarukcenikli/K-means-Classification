{
 "cells": [
  {
   "cell_type": "code",
   "execution_count": 2,
   "id": "26059627-a873-498a-b677-3a0d9d56585a",
   "metadata": {},
   "outputs": [
    {
     "name": "stdout",
     "output_type": "stream",
     "text": [
      "StandardScaler()\n",
      "[[ 0.86822067  0.28495326  1.25463857 ... -0.14576634 -0.35287683\n",
      "  -0.5864509 ]\n",
      " [-0.25403436  0.59181718  0.63616803 ... -0.79373376 -0.35287683\n",
      "  -0.5864509 ]\n",
      " [-0.71613938  0.14993314  0.60142249 ... -0.82894938 -0.35287683\n",
      "  -0.5864509 ]\n",
      " ...\n",
      " [ 0.76919816  1.16872135 -1.86551055 ... -0.36410319  2.95320036\n",
      "  -0.5864509 ]\n",
      " [-0.61711687  1.19327046 -1.86551055 ... -0.33593069  2.81208731\n",
      "  -0.5864509 ]\n",
      " [-0.41907187  1.00915211 -1.86551055 ... -0.23732695  3.01367739\n",
      "  -0.5864509 ]]\n",
      "KMeans(n_clusters=4)\n",
      "KMeans(n_clusters=4)\n",
      "[[ 0.86822067  0.28495326  1.25463857 ... -0.14576634 -0.35287683\n",
      "  -0.5864509 ]\n",
      " [-0.25403436  0.59181718  0.63616803 ... -0.79373376 -0.35287683\n",
      "  -0.5864509 ]\n",
      " [-0.71613938  0.14993314  0.60142249 ... -0.82894938 -0.35287683\n",
      "  -0.5864509 ]\n",
      " ...\n",
      " [ 0.76919816  1.16872135 -1.86551055 ... -0.36410319  2.95320036\n",
      "  -0.5864509 ]\n",
      " [-0.61711687  1.19327046 -1.86551055 ... -0.33593069  2.81208731\n",
      "  -0.5864509 ]\n",
      " [-0.41907187  1.00915211 -1.86551055 ... -0.23732695  3.01367739\n",
      "  -0.5864509 ]]\n",
      "KMeans(n_clusters=4)\n"
     ]
    },
    {
     "data": {
      "image/png": "[encoded data removed]",
      "text/plain": [
       "<Figure size 432x288 with 1 Axes>"
      ]
     },
     "metadata": {
      "needs_background": "light"
     },
     "output_type": "display_data"
    }
   ],
   "source": [
    "# import necessary libraries\n",
    "import matplotlib.pyplot as plt\n",
    "from sklearn.cluster import KMeans\n",
    "from sklearn.datasets import make_blobs\n",
    "\n",
    "from sklearn import datasets\n",
    "from sklearn import metrics\n",
    "from sklearn import preprocessing\n",
    "from sklearn.naive_bayes import GaussianNB\n",
    "from sklearn.model_selection import train_test_split as tts\n",
    "import numpy as np \n",
    "import pandas as pd \n",
    "import os\n",
    "\n",
    "# create synthetic dataset\n",
    "data = make_blobs(n_samples=10, n_features=9, centers=4, cluster_std=1.8, random_state=101)\n",
    "#print(data)\n",
    "\n",
    "df = pd.read_csv('Final-data.csv')\n",
    "df.shape\n",
    "##\n",
    " \n",
    "\n",
    "from sklearn.preprocessing import StandardScaler\n",
    "scaler = StandardScaler()\n",
    "scaled_data = scaler.fit_transform(df)\n",
    "print(scaler)\n",
    "print(scaled_data)\n",
    "\n",
    "kmeans = KMeans(n_clusters=4)\n",
    "print(kmeans)\n",
    "kmeans.fit(scaled_data)\n",
    "print(kmeans)\n",
    "print(scaled_data)\n",
    "print(kmeans.fit(scaled_data))\n",
    "\n",
    "plt.scatter(scaled_data[:,0], scaled_data[:,1], c=kmeans.labels_)\n",
    "plt.show()"
   ]
  },
  {
   "cell_type": "code",
   "execution_count": null,
   "id": "67c9864e-79e9-45ec-963b-95afe877d009",
   "metadata": {},
   "outputs": [],
   "source": [
    "df.head()"
   ]
  },
  {
   "cell_type": "code",
   "execution_count": null,
   "id": "580ff772-d241-4046-8345-bfde1109742d",
   "metadata": {},
   "outputs": [],
   "source": [
    "df.info()"
   ]
  },
  {
   "cell_type": "code",
   "execution_count": null,
   "id": "065ea12c-041d-417b-8b12-b7064fcddd9e",
   "metadata": {},
   "outputs": [],
   "source": [
    "print(df)"
   ]
  },
  {
   "cell_type": "code",
   "execution_count": null,
   "id": "47648703-eaf6-4067-a179-f3089a798b47",
   "metadata": {},
   "outputs": [],
   "source": [
    "fd = type(df)\n",
    "print(fd)"
   ]
  },
  {
   "cell_type": "code",
   "execution_count": null,
   "id": "39c6caa8-bcda-4f39-8a87-2eab2b68b459",
   "metadata": {},
   "outputs": [],
   "source": [
    "print('Enter k value:')\n",
    "m = input()\n",
    "m= int(m)\n",
    "# fit k-means clustering model\n",
    "\n",
    "#normalizasyon\n",
    "\n",
    "kmeans = KMeans(n_clusters=m)\n",
    "kmeans.fit(data[0])\n",
    "\n",
    "# predict cluster labels\n",
    "predictions = kmeans.predict(data[0])\n",
    "print(predictions)\n",
    "az = str(predictions)\n",
    "\n",
    "\n",
    "with open(\"sonuc.txt\", \"w\") as file:\n",
    "  # Write the text to the file\n",
    "  file.write(az)\n",
    "\n",
    "# visualize clusters\n",
    "plt.scatter(data[0][:,0], data[0][:,1], c=predictions, cmap='viridis')\n",
    "plt.xlabel('Feature 1')\n",
    "plt.ylabel('Feature 2')\n",
    "plt.title('K-Means Clustering Results')\n",
    "plt.show()"
   ]
  }
 ],
 "metadata": {
  "kernelspec": {
   "display_name": "Python 3 (ipykernel)",
   "language": "python",
   "name": "python3"
  },
  "language_info": {
   "codemirror_mode": {
    "name": "ipython",
    "version": 3
   },
   "file_extension": ".py",
   "mimetype": "text/x-python",
   "name": "python",
   "nbconvert_exporter": "python",
   "pygments_lexer": "ipython3",
   "version": "3.10.5"
  }
 },
 "nbformat": 4,
 "nbformat_minor": 5
}
